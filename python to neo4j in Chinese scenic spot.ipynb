{
 "cells": [
  {
   "cell_type": "code",
   "execution_count": null,
   "id": "e28e75f6",
   "metadata": {},
   "outputs": [],
   "source": [
    "# necessary library\n",
    "import pandas as pd\n",
    "from neo4j import GraphDatabase\n",
    "from py2neo import Graph, Node, Relationship, Subgraph\n",
    "import csv"
   ]
  },
  {
   "cell_type": "code",
   "execution_count": null,
   "id": "ae0b94a1",
   "metadata": {},
   "outputs": [],
   "source": [
    "# here is my pre-data-process, the raw data is composed of scenic spot entities and their various attributes.\n",
    "# Then link each attribute to the spot entity as a triple, forming the following tri table below.\n",
    "\n",
    "# tri = pd.concat([A,province,jingdian,zhulei,yalei,jibenlei,zhulei1,yalei1,jibenlei1,zhulei2,yalei2,jibenlei2], ignore_index=True)\n",
    "# tri=tri.dropna()\n",
    "# tri.to_csv(\"C:/Users/Taul/Desktop/tri.csv\")"
   ]
  },
  {
   "cell_type": "code",
   "execution_count": null,
   "id": "91a587ed",
   "metadata": {},
   "outputs": [],
   "source": [
    "# link to Neo4j\n",
    "uri = \"bolt://localhost:xxxx\"  # your neo4j browser url\n",
    "username = \"neo4j\"  # your user name\n",
    "password = \"xxx\"  # your password\n",
    "driver = GraphDatabase.driver(uri, auth=(username, password))\n",
    "\n",
    "# define function for batch data import\n",
    "def import_data_to_neo4j(driver, csv_file_path, batch_size=1000):\n",
    "    with open(csv_file_path, 'r', encoding='utf-8') as file:\n",
    "        reader = csv.DictReader(file)  # DictReader provides conviently read by column name\n",
    "        batch = [1000]  \n",
    "        count = 0 \n",
    "\n",
    "        for row in reader:\n",
    "            batch.append(row)\n",
    "            count += 1\n",
    "\n",
    "            if count % batch_size == 0:\n",
    "                with driver.session() as session:\n",
    "                    session.write_transaction(load_batch, batch)\n",
    "                print(f\"Processed {count} rows so far.\")\n",
    "                batch = []\n",
    "\n",
    "        # import the last batch\n",
    "        if batch:\n",
    "            with driver.session() as session:\n",
    "                session.write_transaction(load_batch, batch)\n",
    "            print(f\"Processed {count} rows in total.\")\n",
    "\n",
    "# define actual excution process\n",
    "def load_batch(tx, batch):\n",
    "    for row in batch:\n",
    "        head = row['head']\n",
    "        relation = row['relation']\n",
    "        tail = row['tail']\n",
    "        source = \"import_2025_04\"  \n",
    "\n",
    "        tx.run(\"\"\"\n",
    "            MERGE (h:Entity {name: $head, source: $source})\n",
    "            MERGE (t:Entity {name: $tail, source: $source})\n",
    "            MERGE (h)-[:RELATES {type: $relation, source: $source}]->(t)\n",
    "        \"\"\", head=head, relation=relation, tail=tail, source=source)\n",
    "\n",
    "# 执行数据导入\n",
    "csv_file_path = \"C:/Users/Taul/Desktop/tri.csv\"  # your CSV\n",
    "import_data_to_neo4j(driver, csv_file_path)\n"
   ]
  }
 ],
 "metadata": {
  "kernelspec": {
   "display_name": "Python 3 (ipykernel)",
   "language": "python",
   "name": "python3"
  },
  "language_info": {
   "codemirror_mode": {
    "name": "ipython",
    "version": 3
   },
   "file_extension": ".py",
   "mimetype": "text/x-python",
   "name": "python",
   "nbconvert_exporter": "python",
   "pygments_lexer": "ipython3",
   "version": "3.9.13"
  }
 },
 "nbformat": 4,
 "nbformat_minor": 5
}
